{
 "cells": [
  {
   "cell_type": "code",
   "execution_count": 8,
   "id": "3c7b4ba9-ddf4-47e7-8d99-0498e727d955",
   "metadata": {},
   "outputs": [],
   "source": [
    "# 1. IMPORT PUSTAKA YANG DIBUTUHKAN\n",
    "import pandas as pd\n",
    "import numpy as np\n",
    "import matplotlib.pyplot as plt\n",
    "import seaborn as sns\n",
    "from sklearn.model_selection import train_test_split\n",
    "from sklearn.preprocessing import StandardScaler, OneHotEncoder\n",
    "from sklearn.compose import ColumnTransformer\n",
    "from sklearn.pipeline import Pipeline\n",
    "from sklearn.linear_model import LogisticRegression\n",
    "from sklearn.metrics import (\n",
    "    accuracy_score, precision_score, recall_score, f1_score, roc_auc_score,\n",
    "    classification_report, ConfusionMatrixDisplay, RocCurveDisplay\n",
    ")\n",
    "\n",
    "# --- 2. MEMUAT DAN INSPEKSI DATA ---\n",
    "# Ganti 'calonpembelimobil.csv' dengan path file Anda jika perlu\n",
    "df = pd.read_csv('../data/calonpembelimobil.csv')"
   ]
  },
  {
   "cell_type": "code",
   "execution_count": 9,
   "id": "920780f3-9cdd-43d0-8a25-8f6606ab6d79",
   "metadata": {},
   "outputs": [
    {
     "name": "stdout",
     "output_type": "stream",
     "text": [
      "--- Informasi Awal Data ---\n",
      "<class 'pandas.core.frame.DataFrame'>\n",
      "RangeIndex: 1000 entries, 0 to 999\n",
      "Data columns (total 7 columns):\n",
      " #   Column          Non-Null Count  Dtype\n",
      "---  ------          --------------  -----\n",
      " 0   ID              1000 non-null   int64\n",
      " 1   Usia            1000 non-null   int64\n",
      " 2   Status          1000 non-null   int64\n",
      " 3   Kelamin         1000 non-null   int64\n",
      " 4   Memiliki_Mobil  1000 non-null   int64\n",
      " 5   Penghasilan     1000 non-null   int64\n",
      " 6   Beli_Mobil      1000 non-null   int64\n",
      "dtypes: int64(7)\n",
      "memory usage: 54.8 KB\n"
     ]
    }
   ],
   "source": [
    "\n",
    "print(\"--- Informasi Awal Data ---\")\n",
    "df.info()"
   ]
  },
  {
   "cell_type": "code",
   "execution_count": 10,
   "id": "ed8cf820-1bbf-4227-b44a-c76a9ff973c9",
   "metadata": {},
   "outputs": [
    {
     "name": "stdout",
     "output_type": "stream",
     "text": [
      "\n",
      "--- 5 Baris Pertama Data ---\n",
      "   ID  Usia  Status  Kelamin  Memiliki_Mobil  Penghasilan  Beli_Mobil\n",
      "0   1    32       1        0               0          240           1\n",
      "1   2    49       2        1               1          100           0\n",
      "2   3    52       1        0               2          250           1\n",
      "3   4    26       2        1               1          130           0\n",
      "4   5    45       3        0               2          237           1\n"
     ]
    }
   ],
   "source": [
    "\n",
    "print(\"\\n--- 5 Baris Pertama Data ---\")\n",
    "print(df.head())"
   ]
  },
  {
   "cell_type": "code",
   "execution_count": 11,
   "id": "927da1b4-35e2-4d93-84a2-9e53dd8ca23f",
   "metadata": {},
   "outputs": [
    {
     "name": "stdout",
     "output_type": "stream",
     "text": [
      "\n",
      "--- Pengecekan Data Kosong & Duplikat ---\n",
      "Data Kosong:\n",
      " ID                0\n",
      "Usia              0\n",
      "Status            0\n",
      "Kelamin           0\n",
      "Memiliki_Mobil    0\n",
      "Penghasilan       0\n",
      "Beli_Mobil        0\n",
      "dtype: int64\n"
     ]
    }
   ],
   "source": [
    "\n",
    "print(\"\\n--- Pengecekan Data Kosong & Duplikat ---\")\n",
    "print(\"Data Kosong:\\n\", df.isnull().sum())"
   ]
  },
  {
   "cell_type": "code",
   "execution_count": 12,
   "id": "e888d935-6c0c-4ef9-b27d-f91590580a70",
   "metadata": {},
   "outputs": [
    {
     "data": {
      "text/plain": [
       "<Figure size 640x480 with 0 Axes>"
      ]
     },
     "metadata": {},
     "output_type": "display_data"
    }
   ],
   "source": [
    "# Grafik lainnya...\n",
    "plt.tight_layout(rect=[0, 0.03, 1, 0.95])\n",
    "plt.show()\n"
   ]
  },
  {
   "cell_type": "code",
   "execution_count": 13,
   "id": "67f23d1c-56a5-49de-aa4f-b1b3b1fc7273",
   "metadata": {},
   "outputs": [],
   "source": [
    "# --- 4. PERSIAPAN DATA DAN PEMODELAN ---\n",
    "X = df.drop('Beli_Mobil', axis=1)\n",
    "y = df['Beli_Mobil']\n",
    "\n",
    "X_train, X_test, y_train, y_test = train_test_split(\n",
    "    X, y, test_size=0.2, random_state=42, stratify=y\n",
    ")"
   ]
  },
  {
   "cell_type": "code",
   "execution_count": 14,
   "id": "fd9186d7-3faf-43b8-9809-7c8e107fda3f",
   "metadata": {},
   "outputs": [
    {
     "name": "stdout",
     "output_type": "stream",
     "text": [
      "\n",
      "Model Regresi Logistik berhasil dilatih!\n"
     ]
    }
   ],
   "source": [
    "numerical_features = ['Usia', 'Penghasilan']\n",
    "categorical_features = ['Kelamin', 'Status', 'Memiliki_Mobil']\n",
    "\n",
    "preprocessor = ColumnTransformer(\n",
    "    transformers=[\n",
    "        ('num', StandardScaler(), numerical_features),\n",
    "        ('cat', OneHotEncoder(handle_unknown='ignore'), categorical_features)\n",
    "    ])\n",
    "\n",
    "model = Pipeline(steps=[\n",
    "    ('preprocessor', preprocessor),\n",
    "    ('classifier', LogisticRegression(random_state=42, class_weight='balanced'))\n",
    "])\n",
    "\n",
    "# --- 5. MELATIH MODEL ---\n",
    "model.fit(X_train, y_train)\n",
    "print(\"\\nModel Regresi Logistik berhasil dilatih!\")\n"
   ]
  },
  {
   "cell_type": "code",
   "execution_count": 15,
   "id": "66ccaec7-0b59-4167-b6c2-be6da364bb39",
   "metadata": {},
   "outputs": [
    {
     "name": "stdout",
     "output_type": "stream",
     "text": [
      "\n",
      "--- Metrik Evaluasi Model ---\n",
      "Akurasi: 0.9100\n",
      "ROC-AUC: 0.9742\n",
      "\n",
      "--- Laporan Klasifikasi ---\n",
      "              precision    recall  f1-score   support\n",
      "\n",
      "  Tidak Beli       0.83      0.95      0.88        73\n",
      "        Beli       0.97      0.89      0.93       127\n",
      "\n",
      "    accuracy                           0.91       200\n",
      "   macro avg       0.90      0.92      0.91       200\n",
      "weighted avg       0.92      0.91      0.91       200\n",
      "\n"
     ]
    }
   ],
   "source": [
    "# --- 6. EVALUASI MODEL ---\n",
    "y_pred = model.predict(X_test)\n",
    "y_prob = model.predict_proba(X_test)[:, 1]\n",
    "\n",
    "print(\"\\n--- Metrik Evaluasi Model ---\")\n",
    "print(f\"Akurasi: {accuracy_score(y_test, y_pred):.4f}\")\n",
    "print(f\"ROC-AUC: {roc_auc_score(y_test, y_prob):.4f}\")\n",
    "print(\"\\n--- Laporan Klasifikasi ---\")\n",
    "print(classification_report(y_test, y_pred, target_names=['Tidak Beli', 'Beli']))\n"
   ]
  },
  {
   "cell_type": "code",
   "execution_count": 16,
   "id": "deba7142-4155-4c79-b0fc-144f9c10c51b",
   "metadata": {},
   "outputs": [
    {
     "data": {
      "image/png": "[encoded data removed]",
      "text/plain": [
       "<Figure size 1400x600 with 3 Axes>"
      ]
     },
     "metadata": {},
     "output_type": "display_data"
    }
   ],
   "source": [
    "# Visualisasi Confusion Matrix dan ROC Curve\n",
    "fig, (ax1, ax2) = plt.subplots(1, 2, figsize=(14, 6))\n",
    "ConfusionMatrixDisplay.from_estimator(model, X_test, y_test, display_labels=['Tidak Beli', 'Beli'], cmap='Blues', ax=ax1)\n",
    "ax1.set_title('Confusion Matrix')\n",
    "RocCurveDisplay.from_estimator(model, X_test, y_test, ax=ax2)\n",
    "ax2.set_title('ROC Curve')\n",
    "ax2.plot([0, 1], [0, 1], 'r--')\n",
    "plt.show()\n"
   ]
  },
  {
   "cell_type": "code",
   "execution_count": 17,
   "id": "264ca8a2-239f-45db-9935-6de465202b83",
   "metadata": {},
   "outputs": [
    {
     "name": "stdout",
     "output_type": "stream",
     "text": [
      "\n",
      "--- Interpretasi Pengaruh Fitur (Odds Ratio) ---\n",
      "               Fitur  Odds Ratio\n",
      "1        Penghasilan  103.797316\n",
      "2          Kelamin_0    1.772112\n",
      "10  Memiliki_Mobil_2    1.728411\n",
      "9   Memiliki_Mobil_1    1.646746\n",
      "5           Status_1    1.320646\n",
      "8   Memiliki_Mobil_0    1.294286\n",
      "4           Status_0    1.237104\n",
      "7           Status_3    1.224702\n",
      "12  Memiliki_Mobil_4    1.000568\n",
      "0               Usia    0.964031\n",
      "3          Kelamin_1    0.564691\n",
      "6           Status_2    0.500125\n",
      "11  Memiliki_Mobil_3    0.271488\n"
     ]
    }
   ],
   "source": [
    "\n",
    "# --- 7. INTERPRETASI MODEL ---\n",
    "cat_feature_names = model.named_steps['preprocessor'].named_transformers_['cat'].get_feature_names_out(categorical_features)\n",
    "all_feature_names = numerical_features + list(cat_feature_names)\n",
    "coefficients = model.named_steps['classifier'].coef_[0]\n",
    "odds_ratios = np.exp(coefficients)\n",
    "\n",
    "coef_df = pd.DataFrame({\n",
    "    'Fitur': all_feature_names,\n",
    "    'Odds Ratio': odds_ratios\n",
    "}).sort_values('Odds Ratio', ascending=False)\n",
    "\n",
    "print(\"\\n--- Interpretasi Pengaruh Fitur (Odds Ratio) ---\")\n",
    "print(coef_df)"
   ]
  },
  {
   "cell_type": "code",
   "execution_count": null,
   "id": "1ced0899-a950-48e6-8438-c3c445ce02a7",
   "metadata": {},
   "outputs": [],
   "source": []
  },
  {
   "cell_type": "code",
   "execution_count": null,
   "id": "50826fcd-713d-4f96-8d2e-f1443caee1fb",
   "metadata": {},
   "outputs": [],
   "source": []
  },
  {
   "cell_type": "code",
   "execution_count": null,
   "id": "07ff37b1-4b2a-4060-9104-ea2159fc30b7",
   "metadata": {},
   "outputs": [],
   "source": []
  }
 ],
 "metadata": {
  "kernelspec": {
   "display_name": "Python 3 (ipykernel)",
   "language": "python",
   "name": "python3"
  },
  "language_info": {
   "codemirror_mode": {
    "name": "ipython",
    "version": 3
   },
   "file_extension": ".py",
   "mimetype": "text/x-python",
   "name": "python",
   "nbconvert_exporter": "python",
   "pygments_lexer": "ipython3",
   "version": "3.13.9"
  }
 },
 "nbformat": 4,
 "nbformat_minor": 5
}
