{
 "cells": [
  {
   "cell_type": "code",
   "execution_count": 14,
   "id": "baab426d-0773-445b-ba82-79b3dc071748",
   "metadata": {},
   "outputs": [],
   "source": [
    "import pandas as pd\n",
    "\n",
    "df_new = pd.read_csv(\"../data/hour.csv\")\n",
    "\n",
    "df1 = df_new[[\"instant\", \"dteday\", \"season\", \"temp\", \"hum\", \"windspeed\"]]"
   ]
  },
  {
   "cell_type": "code",
   "execution_count": null,
   "id": "d4797d83-7944-4694-801f-d13fb1afbe46",
   "metadata": {},
   "outputs": [],
   "source": []
  },
  {
   "cell_type": "code",
   "execution_count": 8,
   "id": "42e5c48a-278f-4ca5-a04a-3a17a5912ccc",
   "metadata": {},
   "outputs": [
    {
     "name": "stdout",
     "output_type": "stream",
     "text": [
      "   instant      dteday  season  temp   hum  windspeed\n",
      "0        1  2011-01-01       1  0.24  0.81        0.0\n",
      "1        2  2011-01-01       1  0.22  0.80        0.0\n",
      "2        3  2011-01-01       1  0.22  0.80        0.0\n",
      "3        4  2011-01-01       1  0.24  0.75        0.0\n",
      "4        5  2011-01-01       1  0.24  0.75        0.0\n"
     ]
    }
   ],
   "source": [
    "print(df1.head())"
   ]
  },
  {
   "cell_type": "code",
   "execution_count": 12,
   "id": "f8d89fd0-59c4-47f3-8058-25577dbc7446",
   "metadata": {},
   "outputs": [],
   "source": [
    "df1.to_csv(\"../data/latihan01.csv\", index=False)"
   ]
  },
  {
   "cell_type": "code",
   "execution_count": null,
   "id": "a240a571-b698-4aa8-83b4-062665ecfbac",
   "metadata": {},
   "outputs": [],
   "source": []
  }
 ],
 "metadata": {
  "kernelspec": {
   "display_name": "Python 3 (ipykernel)",
   "language": "python",
   "name": "python3"
  },
  "language_info": {
   "codemirror_mode": {
    "name": "ipython",
    "version": 3
   },
   "file_extension": ".py",
   "mimetype": "text/x-python",
   "name": "python",
   "nbconvert_exporter": "python",
   "pygments_lexer": "ipython3",
   "version": "3.11.9"
  }
 },
 "nbformat": 4,
 "nbformat_minor": 5
}
